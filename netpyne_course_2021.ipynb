{
  "nbformat": 4,
  "nbformat_minor": 0,
  "metadata": {
    "colab": {
      "name": "netpyne_course_2021.ipynb",
      "provenance": [],
      "authorship_tag": "ABX9TyNSBGE3IRyE62YQhivydwsD",
      "include_colab_link": true
    },
    "kernelspec": {
      "name": "python3",
      "display_name": "Python 3"
    },
    "language_info": {
      "name": "python"
    }
  },
  "cells": [
    {
      "cell_type": "markdown",
      "metadata": {
        "id": "view-in-github",
        "colab_type": "text"
      },
      "source": [
        "<a href=\"https://colab.research.google.com/github/ymaqsudi/netpyne_course_2021/blob/main/netpyne_course_2021.ipynb\" target=\"_parent\"><img src=\"https://colab.research.google.com/assets/colab-badge.svg\" alt=\"Open In Colab\"/></a>"
      ]
    },
    {
      "cell_type": "markdown",
      "metadata": {
        "id": "_FBjbYXntlsA"
      },
      "source": [
        "# NetPyNE Course 2021\n",
        "\n",
        "## Working with Colab"
      ]
    },
    {
      "cell_type": "code",
      "metadata": {
        "colab": {
          "base_uri": "https://localhost:8080/"
        },
        "id": "CzLs03_Cthvx",
        "outputId": "8194b87b-f6a9-466a-e24b-726ed6d9769a"
      },
      "source": [
        "!pip install neuron"
      ],
      "execution_count": 1,
      "outputs": [
        {
          "output_type": "stream",
          "text": [
            "Collecting neuron\n",
            "\u001b[?25l  Downloading https://files.pythonhosted.org/packages/14/f4/ea50608c7633c286859d6cce0aad621da22a8da7ff9787efc8bb71fe0597/NEURON-8.0.0-cp37-cp37m-manylinux1_x86_64.whl (12.6MB)\n",
            "\u001b[K     |████████████████████████████████| 12.6MB 23.2MB/s \n",
            "\u001b[?25hRequirement already satisfied: numpy>=1.9.3 in /usr/local/lib/python3.7/dist-packages (from neuron) (1.19.5)\n",
            "Installing collected packages: neuron\n",
            "Successfully installed neuron-8.0.0\n"
          ],
          "name": "stdout"
        }
      ]
    },
    {
      "cell_type": "code",
      "metadata": {
        "colab": {
          "base_uri": "https://localhost:8080/"
        },
        "id": "3zlDcdLrt02y",
        "outputId": "3edd353c-474e-4a3c-ea4e-cc2182e998ba"
      },
      "source": [
        "!which nrnivmodl"
      ],
      "execution_count": 2,
      "outputs": [
        {
          "output_type": "stream",
          "text": [
            "/usr/local/bin/nrnivmodl\n"
          ],
          "name": "stdout"
        }
      ]
    },
    {
      "cell_type": "code",
      "metadata": {
        "id": "uUjBSp0Xt7D2"
      },
      "source": [
        ""
      ],
      "execution_count": null,
      "outputs": []
    },
    {
      "cell_type": "markdown",
      "metadata": {
        "id": "L_9xfkMVuEwV"
      },
      "source": [
        "## Install NetPyNE"
      ]
    },
    {
      "cell_type": "code",
      "metadata": {
        "colab": {
          "base_uri": "https://localhost:8080/"
        },
        "id": "O5wDYJIvuGy0",
        "outputId": "15d49255-c654-40be-9702-39e36236cb0e"
      },
      "source": [
        "!pip install netpyne"
      ],
      "execution_count": 3,
      "outputs": [
        {
          "output_type": "stream",
          "text": [
            "Collecting netpyne\n",
            "\u001b[?25l  Downloading https://files.pythonhosted.org/packages/9e/24/0f9d685a3fbcbca0d86d9ca6521465c43725d9e23760c91524fe77191f12/netpyne-1.0.0.2-py2.py3-none-any.whl (312kB)\n",
            "\r\u001b[K     |█                               | 10kB 12.7MB/s eta 0:00:01\r\u001b[K     |██                              | 20kB 17.7MB/s eta 0:00:01\r\u001b[K     |███▏                            | 30kB 20.0MB/s eta 0:00:01\r\u001b[K     |████▏                           | 40kB 22.6MB/s eta 0:00:01\r\u001b[K     |█████▎                          | 51kB 25.0MB/s eta 0:00:01\r\u001b[K     |██████▎                         | 61kB 25.2MB/s eta 0:00:01\r\u001b[K     |███████▍                        | 71kB 22.7MB/s eta 0:00:01\r\u001b[K     |████████▍                       | 81kB 23.0MB/s eta 0:00:01\r\u001b[K     |█████████▍                      | 92kB 23.8MB/s eta 0:00:01\r\u001b[K     |██████████▌                     | 102kB 25.1MB/s eta 0:00:01\r\u001b[K     |███████████▌                    | 112kB 25.1MB/s eta 0:00:01\r\u001b[K     |████████████▋                   | 122kB 25.1MB/s eta 0:00:01\r\u001b[K     |█████████████▋                  | 133kB 25.1MB/s eta 0:00:01\r\u001b[K     |██████████████▊                 | 143kB 25.1MB/s eta 0:00:01\r\u001b[K     |███████████████▊                | 153kB 25.1MB/s eta 0:00:01\r\u001b[K     |████████████████▉               | 163kB 25.1MB/s eta 0:00:01\r\u001b[K     |█████████████████▉              | 174kB 25.1MB/s eta 0:00:01\r\u001b[K     |██████████████████▉             | 184kB 25.1MB/s eta 0:00:01\r\u001b[K     |████████████████████            | 194kB 25.1MB/s eta 0:00:01\r\u001b[K     |█████████████████████           | 204kB 25.1MB/s eta 0:00:01\r\u001b[K     |██████████████████████          | 215kB 25.1MB/s eta 0:00:01\r\u001b[K     |███████████████████████         | 225kB 25.1MB/s eta 0:00:01\r\u001b[K     |████████████████████████▏       | 235kB 25.1MB/s eta 0:00:01\r\u001b[K     |█████████████████████████▏      | 245kB 25.1MB/s eta 0:00:01\r\u001b[K     |██████████████████████████▎     | 256kB 25.1MB/s eta 0:00:01\r\u001b[K     |███████████████████████████▎    | 266kB 25.1MB/s eta 0:00:01\r\u001b[K     |████████████████████████████▎   | 276kB 25.1MB/s eta 0:00:01\r\u001b[K     |█████████████████████████████▍  | 286kB 25.1MB/s eta 0:00:01\r\u001b[K     |██████████████████████████████▍ | 296kB 25.1MB/s eta 0:00:01\r\u001b[K     |███████████████████████████████▌| 307kB 25.1MB/s eta 0:00:01\r\u001b[K     |████████████████████████████████| 317kB 25.1MB/s \n",
            "\u001b[?25hCollecting matplotlib-scalebar\n",
            "  Downloading https://files.pythonhosted.org/packages/51/a4/cd254234c35f3591361988e89ab132ee14789f2ebe1ede621d63f5241f00/matplotlib_scalebar-0.7.2-py2.py3-none-any.whl\n",
            "Requirement already satisfied: scipy in /usr/local/lib/python3.7/dist-packages (from netpyne) (1.4.1)\n",
            "Requirement already satisfied: numpy in /usr/local/lib/python3.7/dist-packages (from netpyne) (1.19.5)\n",
            "Requirement already satisfied: pandas in /usr/local/lib/python3.7/dist-packages (from netpyne) (1.1.5)\n",
            "Requirement already satisfied: bokeh in /usr/local/lib/python3.7/dist-packages (from netpyne) (2.3.2)\n",
            "Requirement already satisfied: future in /usr/local/lib/python3.7/dist-packages (from netpyne) (0.16.0)\n",
            "Requirement already satisfied: matplotlib in /usr/local/lib/python3.7/dist-packages (from netpyne) (3.2.2)\n",
            "Requirement already satisfied: pytz>=2017.2 in /usr/local/lib/python3.7/dist-packages (from pandas->netpyne) (2018.9)\n",
            "Requirement already satisfied: python-dateutil>=2.7.3 in /usr/local/lib/python3.7/dist-packages (from pandas->netpyne) (2.8.1)\n",
            "Requirement already satisfied: PyYAML>=3.10 in /usr/local/lib/python3.7/dist-packages (from bokeh->netpyne) (3.13)\n",
            "Requirement already satisfied: packaging>=16.8 in /usr/local/lib/python3.7/dist-packages (from bokeh->netpyne) (20.9)\n",
            "Requirement already satisfied: typing-extensions>=3.7.4 in /usr/local/lib/python3.7/dist-packages (from bokeh->netpyne) (3.7.4.3)\n",
            "Requirement already satisfied: pillow>=7.1.0 in /usr/local/lib/python3.7/dist-packages (from bokeh->netpyne) (7.1.2)\n",
            "Requirement already satisfied: tornado>=5.1 in /usr/local/lib/python3.7/dist-packages (from bokeh->netpyne) (5.1.1)\n",
            "Requirement already satisfied: Jinja2>=2.9 in /usr/local/lib/python3.7/dist-packages (from bokeh->netpyne) (2.11.3)\n",
            "Requirement already satisfied: pyparsing!=2.0.4,!=2.1.2,!=2.1.6,>=2.0.1 in /usr/local/lib/python3.7/dist-packages (from matplotlib->netpyne) (2.4.7)\n",
            "Requirement already satisfied: cycler>=0.10 in /usr/local/lib/python3.7/dist-packages (from matplotlib->netpyne) (0.10.0)\n",
            "Requirement already satisfied: kiwisolver>=1.0.1 in /usr/local/lib/python3.7/dist-packages (from matplotlib->netpyne) (1.3.1)\n",
            "Requirement already satisfied: six>=1.5 in /usr/local/lib/python3.7/dist-packages (from python-dateutil>=2.7.3->pandas->netpyne) (1.15.0)\n",
            "Requirement already satisfied: MarkupSafe>=0.23 in /usr/local/lib/python3.7/dist-packages (from Jinja2>=2.9->bokeh->netpyne) (2.0.0)\n",
            "Installing collected packages: matplotlib-scalebar, netpyne\n",
            "Successfully installed matplotlib-scalebar-0.7.2 netpyne-1.0.0.2\n"
          ],
          "name": "stdout"
        }
      ]
    },
    {
      "cell_type": "code",
      "metadata": {
        "id": "Ug0kDygMuIDH"
      },
      "source": [
        "import neuron"
      ],
      "execution_count": 4,
      "outputs": []
    },
    {
      "cell_type": "code",
      "metadata": {
        "id": "aec9lU1nuQDS"
      },
      "source": [
        "import netpyne"
      ],
      "execution_count": 5,
      "outputs": []
    },
    {
      "cell_type": "code",
      "metadata": {
        "id": "ORd-NVmQuRSO"
      },
      "source": [
        "from neuron import h"
      ],
      "execution_count": 6,
      "outputs": []
    },
    {
      "cell_type": "code",
      "metadata": {
        "id": "GvAk3Sknv95b"
      },
      "source": [
        ""
      ],
      "execution_count": null,
      "outputs": []
    }
  ]
}